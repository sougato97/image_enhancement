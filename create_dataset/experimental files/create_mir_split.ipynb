{
 "cells": [
  {
   "cell_type": "code",
   "execution_count": 1,
   "metadata": {},
   "outputs": [],
   "source": [
    "# import unprocess\n",
    "# import cv2\n",
    "# import shutil"
   ]
  },
  {
   "cell_type": "code",
   "execution_count": 2,
   "metadata": {},
   "outputs": [],
   "source": [
    "# img = cv2.imread('/home/csgrad/sougatob/Thesis/datasets/LOLdataset/our485/high/2.png')"
   ]
  },
  {
   "cell_type": "code",
   "execution_count": 3,
   "metadata": {},
   "outputs": [],
   "source": [
    "# def create_example(image):\n",
    "#   \"\"\"Creates training example of inputs and labels from `image`.\"\"\"\n",
    "#   image.shape.assert_is_compatible_with([None, None, 3])\n",
    "#   image, metadata = unprocess.unprocess(image)\n",
    "#   shot_noise, read_noise = unprocess.random_noise_levels()\n",
    "#   noisy_img = unprocess.add_noise(image, shot_noise, read_noise)\n",
    "#   # Approximation of variance is calculated using noisy image (rather than clean\n",
    "#   # image), since that is what will be avaiable during evaluation.\n",
    "#   variance = shot_noise * noisy_img + read_noise\n",
    "\n",
    "#   inputs = {\n",
    "#       'noisy_img': noisy_img,\n",
    "#       'variance': variance,\n",
    "#   }\n",
    "#   inputs.update(metadata)\n",
    "#   labels = image\n",
    "#   return inputs, labels"
   ]
  },
  {
   "cell_type": "code",
   "execution_count": 4,
   "metadata": {},
   "outputs": [],
   "source": [
    "# inputs, labels = create_example(img)"
   ]
  },
  {
   "cell_type": "code",
   "execution_count": 5,
   "metadata": {},
   "outputs": [],
   "source": [
    "# import tensorflow as tf\n",
    "# shape1 = tf.TensorShape([2, 3])\n",
    "# shape2 = tf.TensorShape([None, 3])\n",
    "# shape1.assert_is_compatible_with(shape2) # no error"
   ]
  },
  {
   "cell_type": "code",
   "execution_count": null,
   "metadata": {},
   "outputs": [],
   "source": [
    "# Import the os and shutil modules\n",
    "import os\n",
    "import shutil"
   ]
  },
  {
   "attachments": {},
   "cell_type": "markdown",
   "metadata": {},
   "source": [
    "Test Folder"
   ]
  },
  {
   "cell_type": "code",
   "execution_count": 5,
   "metadata": {},
   "outputs": [],
   "source": [
    "# Define the source and destination folders\n",
    "source = \"/home/csgrad/sougatob/Thesis/datasets/mirflickr\"\n",
    "destination = \"/home/csgrad/sougatob/Thesis/datasets/mirflickr/test\"\n",
    "\n",
    "# Get the list of files in the source folder\n",
    "files = os.listdir(source)\n",
    "\n",
    "# Sort the files by name in ascending order\n",
    "files.sort()\n",
    "count = 0\n",
    "\n",
    "# Loop through the sorted files\n",
    "for file in files:\n",
    "    # Check if the file is an image with jpg or png extension\n",
    "    if file.endswith(\".jpg\") or file.endswith(\".png\"):\n",
    "\n",
    "        if (int(file[2:-4]) > 0 and int(file[2:-4]) <= 1250):\n",
    "            # print(int(file[2:-4]))\n",
    "            # Get the full path of the file\n",
    "            file_path = os.path.join(source, file)\n",
    "            # Move the file to the destination folder\n",
    "            shutil.move(file_path, destination)\n",
    "            count = count + 1\n",
    "        # # # Print a message\n",
    "        # print(f\"Moved {file} from {source} to {destination}\")\n",
    "    if (count == 1250):\n",
    "        break\n"
   ]
  },
  {
   "attachments": {},
   "cell_type": "markdown",
   "metadata": {},
   "source": [
    "Train Folder"
   ]
  },
  {
   "cell_type": "code",
   "execution_count": 7,
   "metadata": {},
   "outputs": [],
   "source": [
    "# Define the source and destination folders\n",
    "source = \"/home/csgrad/sougatob/Thesis/datasets/mirflickr\"\n",
    "destination = \"/home/csgrad/sougatob/Thesis/datasets/mirflickr/train\"\n",
    "\n",
    "# Get the list of files in the source folder\n",
    "files = os.listdir(source)\n",
    "\n",
    "# Sort the files by name in ascending order\n",
    "files.sort()\n",
    "count = 0\n",
    "\n",
    "# Loop through the sorted files\n",
    "for file in files:\n",
    "    # Check if the file is an image with jpg or png extension\n",
    "    if file.endswith(\".jpg\") or file.endswith(\".png\"):\n",
    "\n",
    "        if (int(file[2:-4]) > 1250 and int(file[2:-4]) <= 25000):\n",
    "            # print(int(file[2:-4]))\n",
    "            # Get the full path of the file\n",
    "            file_path = os.path.join(source, file)\n",
    "            # Move the file to the destination folder\n",
    "            shutil.move(file_path, destination)\n",
    "            count = count + 1\n",
    "        # # # Print a message\n",
    "        # print(f\"Moved {file} from {source} to {destination}\")\n",
    "    # if (count == 1250):\n",
    "    #     break"
   ]
  }
 ],
 "metadata": {
  "kernelspec": {
   "display_name": "tf",
   "language": "python",
   "name": "python3"
  },
  "language_info": {
   "codemirror_mode": {
    "name": "ipython",
    "version": 3
   },
   "file_extension": ".py",
   "mimetype": "text/x-python",
   "name": "python",
   "nbconvert_exporter": "python",
   "pygments_lexer": "ipython3",
   "version": "3.5.6"
  },
  "orig_nbformat": 4
 },
 "nbformat": 4,
 "nbformat_minor": 2
}
